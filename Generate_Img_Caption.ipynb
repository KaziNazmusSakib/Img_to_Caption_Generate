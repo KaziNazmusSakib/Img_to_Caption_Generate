{
  "nbformat": 4,
  "nbformat_minor": 0,
  "metadata": {
    "colab": {
      "provenance": [],
      "authorship_tag": "ABX9TyNQqF8C0fCdQBVmP++795Tt",
      "include_colab_link": true
    },
    "kernelspec": {
      "name": "python3",
      "display_name": "Python 3"
    },
    "language_info": {
      "name": "python"
    }
  },
  "cells": [
    {
      "cell_type": "markdown",
      "metadata": {
        "id": "view-in-github",
        "colab_type": "text"
      },
      "source": [
        "<a href=\"https://colab.research.google.com/github/KaziNazmusSakib/Img_to_Caption_Generate/blob/main/Generate_Img_Caption.ipynb\" target=\"_parent\"><img src=\"https://colab.research.google.com/assets/colab-badge.svg\" alt=\"Open In Colab\"/></a>"
      ]
    },
    {
      "cell_type": "code",
      "execution_count": 3,
      "metadata": {
        "id": "2QN3YrWhRMlx"
      },
      "outputs": [],
      "source": [
        "import os\n",
        "\n",
        "class Config():\n",
        "\n",
        "\troot_dataset_dir = 'dataset'\n",
        "\n",
        "\timage_dir = root_dataset_dir + '/Flicker8k_Dataset'\n",
        "\ttrain_file_path = root_dataset_dir + '/Flickr8k_text/Flickr_8k.trainImages.txt'\n",
        "\ttest_file_path =root_dataset_dir + '/Flickr8k_text/Flickr_8k.testImages.txt'\n",
        "\ttoken_path = root_dataset_dir + '/Flickr8k_text/Flickr8k.bn_token.txt'\n",
        "\n",
        "\ttrain_features_file_path = root_dataset_dir + '/train_features.pickle'\n",
        "\ttest_features_file_path = root_dataset_dir + '/test_features.pickle'\n",
        "\n",
        "\tdescriptions_file_path = root_dataset_dir + '/bn_descriptions.txt'\n",
        "\tword2vec_file_path = root_dataset_dir + '/word2vec_bangla.txt'\n",
        "\n",
        "\tcheckpoint_dir = root_dataset_dir + '/models'\n",
        "\n",
        "\tembedding_dim = 300\n",
        "\tbatch_size = 10\n",
        "\tepochs = 100\n"
      ]
    },
    {
      "cell_type": "code",
      "source": [
        "import os\n",
        "import glob\n",
        "from time import time\n",
        "import numpy as np\n",
        "from PIL import Image\n",
        "from pickle import dump, load\n",
        "from keras.applications.inception_v3 import InceptionV3, preprocess_input\n",
        "from keras.models import Model\n",
        "from keras.preprocessing import image\n",
        "\n",
        "def load_dataset(filename, image_dir):\n",
        "\t# Read the train image names in a set\n",
        "\timage_names = set(open(filename, 'r').read().strip().split('\\n'))\n",
        "\t# all image names in the image directory\n",
        "\timage_paths = glob.glob(image_dir + '/*.jpg')\n",
        "\t# Create a list of all the training images with their full path names\n",
        "\timages = []\n",
        "\tfor image_path in image_paths: # img is list of full path names of all images\n",
        "\t    if image_path.split('/')[-1] in image_names: # Check if the image belongs to training set\n",
        "\t        images.append(image_path.split('/')[-1]) # Add it to the list of train images\n",
        "\treturn images\n",
        "\n",
        "def preprocess(image_path):\n",
        "    # Convert all the images to size 299x299 as expected by the inception v3 model\n",
        "    img = image.load_img(image_path, target_size=(299, 299))\n",
        "    # Convert PIL image to numpy array of 3-dimensions\n",
        "    x = image.img_to_array(img)\n",
        "    # Add one more dimension\n",
        "    x = np.expand_dims(x, axis=0)\n",
        "    # preprocess the images using preprocess_input() from inception module\n",
        "    x = preprocess_input(x)\n",
        "    return x\n",
        "\n",
        "# Function to encode a given image into a vector of size (2048, )\n",
        "def encode(model, image):\n",
        "    image = preprocess(image) # preprocess the image\n",
        "    fea_vec = model.predict(image) # Get the encoding vector for the image\n",
        "    fea_vec = np.reshape(fea_vec, fea_vec.shape[1]) # reshape from (1, 2048) to (2048, )\n",
        "    return fea_vec\n",
        "\n",
        "def encode_images_into_pickle(config):\n",
        "\ttrain_images_file = config.train_file_path\n",
        "\ttest_images_file = config.test_file_path\n",
        "\timage_dir = config.image_dir\n",
        "\n",
        "\ttrain_images = load_dataset(train_images_file, image_dir)\n",
        "\ttest_images = load_dataset(test_images_file, image_dir)\n",
        "\n",
        "\tprint(\"Total train images : \", len(train_images))\n",
        "\tprint(\"Total test images : \", len(test_images))\n",
        "\n",
        "\t# Call the funtion to encode all the train images\n",
        "\t# This will take a while on CPU - Execute this only once\n",
        "\tstart = time()\n",
        "\tencoding_train = {}\n",
        "\tprint(\"Loading InceptionV3 Model...\")\n",
        "\t# Load the inception v3 model\n",
        "\tmodel = InceptionV3(weights='imagenet')\n",
        "\t# Create a new model, by removing the last layer (output layer) from the inception v3\n",
        "\tmodel = Model(model.input, model.layers[-2].output)\n",
        "\tprint(\"Train Imge encoding start..\")\n",
        "\tfor train_image in train_images:\n",
        "\t    encoding_train[train_image] = encode(model, os.path.join(image_dir, train_image))\n",
        "\t# Save the bottleneck train features to disk\n",
        "\tprint(\"Saving encoded...\")\n",
        "\twith open(config.train_features_file_path, \"wb\") as encoded_pickle:\n",
        "\t    dump(encoding_train, encoded_pickle)\n",
        "\tprint(\"Finish encoding. Total time taken (s) = \", time()-start)\n",
        "\n",
        "\tstart = time()\n",
        "\tencoding_test = {}\n",
        "\tprint(\"Test Imge encoding start..\")\n",
        "\tfor test_image in test_images:\n",
        "\t    encoding_test[test_image] = encode(model, os.path.join(image_dir, test_image))\n",
        "\t# Save the bottleneck train features to disk\n",
        "\tprint(\"Saving encoded...\")\n",
        "\twith open(config.test_features_file_path, \"wb\") as encoded_pickle:\n",
        "\t    dump(encoding_test, encoded_pickle)\n",
        "\tprint(\"Finish encoding. Total time taken (s) = \", time()-start)\n",
        "\n",
        "if __name__ == '__main__':\n",
        "\tfrom config import Config\n",
        "\tconfig = Config()\n",
        "\t# encode train and test images and save to disk\n",
        "\tencode_images_into_pickle(config)"
      ],
      "metadata": {
        "id": "__PTehl5TGve"
      },
      "execution_count": null,
      "outputs": []
    }
  ]
}